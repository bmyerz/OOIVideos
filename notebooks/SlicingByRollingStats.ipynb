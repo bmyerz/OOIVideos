{
 "cells": [
  {
   "cell_type": "code",
   "execution_count": null,
   "metadata": {
    "collapsed": true
   },
   "outputs": [],
   "source": [
    "from IPython.display import HTML"
   ]
  },
  {
   "cell_type": "code",
   "execution_count": null,
   "metadata": {
    "collapsed": false
   },
   "outputs": [],
   "source": [
    "import matplotlib.pyplot as plt\n",
    "%matplotlib inline"
   ]
  },
  {
   "cell_type": "code",
   "execution_count": null,
   "metadata": {
    "collapsed": true
   },
   "outputs": [],
   "source": [
    "import os\n",
    "import numpy as np"
   ]
  },
  {
   "cell_type": "code",
   "execution_count": null,
   "metadata": {
    "collapsed": true
   },
   "outputs": [],
   "source": [
    "fname = os.path.join('..','results','rollingStats.mp4')"
   ]
  },
  {
   "cell_type": "code",
   "execution_count": null,
   "metadata": {
    "collapsed": true
   },
   "outputs": [],
   "source": [
    "# the input file:\n",
    "filename = 'opendap_hyrax_large_format_RS03ASHS-PN03B-06-CAMHDA301_2016_01_01_CAMHDA301-20160101T210000Z.mp4'"
   ]
  },
  {
   "cell_type": "code",
   "execution_count": null,
   "metadata": {
    "collapsed": true
   },
   "outputs": [],
   "source": [
    "# the results directory\n",
    "results_path = os.path.join(os.getcwd(),'..','results')"
   ]
  },
  {
   "cell_type": "code",
   "execution_count": null,
   "metadata": {
    "collapsed": true
   },
   "outputs": [],
   "source": [
    "# the directory of the input file\n",
    "video_path = os.path.join(os.getcwd(),'..','OOIVideos')"
   ]
  },
  {
   "cell_type": "code",
   "execution_count": null,
   "metadata": {
    "collapsed": false
   },
   "outputs": [],
   "source": [
    "video_encoded = open(fname, \"rb\").read().encode(\"base64\")\n",
    "video_tag = '<video width=\"800\" height=\"800\" controls alt=\"test\" src=\"data:video/{0};base64,{1}\">'.format(\"mp4\", video_encoded)\n",
    "HTML(data=video_tag)"
   ]
  },
  {
   "cell_type": "markdown",
   "metadata": {
    "collapsed": false
   },
   "source": [
    "#### Comparing rolling statistics of two sequences (two consecutive days)."
   ]
  },
  {
   "cell_type": "code",
   "execution_count": null,
   "metadata": {
    "collapsed": true
   },
   "outputs": [],
   "source": [
    "# rolling_stats are pickled in store.pckl and store.pckl1"
   ]
  },
  {
   "cell_type": "code",
   "execution_count": null,
   "metadata": {
    "collapsed": false
   },
   "outputs": [],
   "source": [
    "f= open(os.path.join('..','results','store.pckl'),'rb')"
   ]
  },
  {
   "cell_type": "code",
   "execution_count": null,
   "metadata": {
    "collapsed": false
   },
   "outputs": [],
   "source": [
    "f1 = open(os.path.join('..','results','store.pckl1'),'rb')"
   ]
  },
  {
   "cell_type": "code",
   "execution_count": null,
   "metadata": {
    "collapsed": true
   },
   "outputs": [],
   "source": [
    "import pickle"
   ]
  },
  {
   "cell_type": "code",
   "execution_count": null,
   "metadata": {
    "collapsed": false
   },
   "outputs": [],
   "source": [
    "res = pickle.load(f)\n",
    "res1 = pickle.load(f1)"
   ]
  },
  {
   "cell_type": "code",
   "execution_count": null,
   "metadata": {
    "collapsed": false
   },
   "outputs": [],
   "source": [
    "f.close()\n",
    "f1.close()"
   ]
  },
  {
   "cell_type": "code",
   "execution_count": null,
   "metadata": {
    "collapsed": false
   },
   "outputs": [],
   "source": [
    "plt.figure(figsize = (15,5))\n",
    "plt.plot(res[0])\n",
    "plt.plot(res1[0],'r')\n",
    "plt.title('Rolling Average')"
   ]
  },
  {
   "cell_type": "markdown",
   "metadata": {},
   "source": [
    "Seems scenes start to get offset toward the end of the video."
   ]
  },
  {
   "cell_type": "code",
   "execution_count": null,
   "metadata": {
    "collapsed": false
   },
   "outputs": [],
   "source": [
    "plt.figure(figsize = (15,5))\n",
    "plt.plot(res[1])\n",
    "plt.plot(res1[1],'r')\n",
    "plt.title('Rolling Variance')"
   ]
  },
  {
   "cell_type": "markdown",
   "metadata": {},
   "source": [
    "Seems frames start to get offse"
   ]
  },
  {
   "cell_type": "markdown",
   "metadata": {
    "collapsed": true
   },
   "source": [
    "##### Scene Extraction"
   ]
  },
  {
   "cell_type": "code",
   "execution_count": null,
   "metadata": {
    "collapsed": false
   },
   "outputs": [],
   "source": []
  },
  {
   "cell_type": "markdown",
   "metadata": {},
   "source": [
    "We will try to extract scenes based on the rolling variance: we will look for areas where the variance is relatively small."
   ]
  },
  {
   "cell_type": "code",
   "execution_count": null,
   "metadata": {
    "collapsed": false
   },
   "outputs": [],
   "source": [
    "plt.figure(figsize = (15,5))\n",
    "plt.plot(res[1])\n",
    "plt.title('Rolling Variance')"
   ]
  },
  {
   "cell_type": "code",
   "execution_count": null,
   "metadata": {
    "collapsed": false
   },
   "outputs": [],
   "source": [
    "# using 2*median as a threshold: the assumption is that the cutoff threshold is well above the median\n",
    "thresh = 2*np.median(res[1])\n",
    "binary = np.array(np.array(res[1])<thresh)"
   ]
  },
  {
   "cell_type": "code",
   "execution_count": null,
   "metadata": {
    "collapsed": false
   },
   "outputs": [],
   "source": [
    "np.median(res[1])"
   ]
  },
  {
   "cell_type": "code",
   "execution_count": null,
   "metadata": {
    "collapsed": false
   },
   "outputs": [],
   "source": [
    "# of time steps in scenes\n",
    "sum(binary)"
   ]
  },
  {
   "cell_type": "code",
   "execution_count": null,
   "metadata": {
    "collapsed": false
   },
   "outputs": [],
   "source": [
    "# removing chunks\n",
    "plt.figure(figsize = (15,5))\n",
    "plt.plot(np.array(res[1]))\n",
    "plt.plot(np.array(res[1])*((np.array(res[1])<thresh)),'r')\n",
    "plt.title('Cut-off Peaks')"
   ]
  },
  {
   "cell_type": "code",
   "execution_count": null,
   "metadata": {
    "collapsed": false
   },
   "outputs": [],
   "source": [
    "def extractSceneBounds(rolling_var):\n",
    "    \"\"\"\n",
    "        This function extracts the bounds of the scenes.\n",
    "        \n",
    "        \n",
    "        Input: rolling_var\n",
    "        Output: list of tuples: starting and ending time point for each scene\n",
    "        \n",
    "    \"\"\"\n",
    "    \n",
    "    thresh = 2*np.median(rolling_var)\n",
    "    binary = np.array(np.array(res[1])<thresh).astype('int')\n",
    "    diff = binary[1:] - binary[:-1]\n",
    "    upper_bound = np.where(diff == 1)[0]\n",
    "    lower_bound = np.where(diff == -1)[0]\n",
    "    \n",
    "    return(zip(list(upper_bound),list(lower_bound)))\n",
    "    \n",
    "    "
   ]
  },
  {
   "cell_type": "code",
   "execution_count": null,
   "metadata": {
    "collapsed": false
   },
   "outputs": [],
   "source": [
    "bounds = extractSceneBounds(res[1])"
   ]
  },
  {
   "cell_type": "code",
   "execution_count": null,
   "metadata": {
    "collapsed": false
   },
   "outputs": [],
   "source": [
    "print(bounds)"
   ]
  },
  {
   "cell_type": "code",
   "execution_count": null,
   "metadata": {
    "collapsed": false
   },
   "outputs": [],
   "source": [
    "# white regions are scenes\n",
    "plt.figure(figsize = (10,3))\n",
    "plt.imshow(np.reshape(binary,(1,len(res[1]))),aspect = 'auto',cmap = 'gray')"
   ]
  },
  {
   "cell_type": "code",
   "execution_count": null,
   "metadata": {
    "collapsed": false
   },
   "outputs": [],
   "source": [
    "plt.figure(figsize = (15,5))\n",
    "plt.plot(res[1])\n",
    "for x in np.array(bounds).ravel():\n",
    "    plt.axvline(x,color = 'r')"
   ]
  },
  {
   "cell_type": "code",
   "execution_count": null,
   "metadata": {
    "collapsed": true
   },
   "outputs": [],
   "source": [
    "import imageio"
   ]
  },
  {
   "cell_type": "code",
   "execution_count": null,
   "metadata": {
    "collapsed": true
   },
   "outputs": [],
   "source": [
    "# this function is really slow\n",
    "def createSlicedVideo(binary, moviename,videoname, subsampleRate, speedup):\n",
    "    \n",
    "    \n",
    "    vid_out = imageio.get_writer(videoname,fps = 30/subsampleRate*speedup)\n",
    "    vid_in = imageio.get_reader(moviename,'ffmpeg')\n",
    "    \n",
    "    frame_idx = np.arange(0,len(vid_in),subsampleRate)\n",
    "    \n",
    "    fig = plt.figure()\n",
    "\n",
    "    for i in range(len(binary)):\n",
    "    #for i in range(60):\n",
    "        \n",
    "        print(i)\n",
    "    \n",
    "        \n",
    "        im = vid_in.get_data(frame_idx[i])\n",
    "        plt.subplot(211)\n",
    "        plt.imshow(im*binary[i], aspect = 'equal')\n",
    "        plt.axis('off')\n",
    "\n",
    "    \n",
    "        plt.subplot(212)\n",
    "        plt.imshow(im*(1-binary[i]), aspect = 'equal')\n",
    "        plt.axis('off')\n",
    "    \n",
    "    \n",
    "        # convert the plot\n",
    "        fig.canvas.draw()\n",
    "        fig_data = np.fromstring(fig.canvas.tostring_rgb(), dtype=np.uint8, sep='')\n",
    "        fig_data = fig_data.reshape(fig.canvas.get_width_height()[::-1] + (3,))\n",
    "        \n",
    "        vid_out.append_data(fig_data.astype(np.dtype('uint8')))\n",
    "    \n",
    "    vid_in.close()\n",
    "    vid_out.close()"
   ]
  },
  {
   "cell_type": "code",
   "execution_count": null,
   "metadata": {
    "collapsed": false
   },
   "outputs": [],
   "source": []
  },
  {
   "cell_type": "code",
   "execution_count": null,
   "metadata": {
    "collapsed": true
   },
   "outputs": [],
   "source": [
    "# this version is faster\n",
    "def createSlicedVideo(binary, moviename,videoname, subsampleRate, speedup):\n",
    "    \"\"\"\n",
    "        createSlicedVideo(binary, moviename,videoname, subsampleRate, speedup)\n",
    "        \n",
    "        It creates a video which masks the motion with black frames\n",
    "        \n",
    "        Input: \n",
    "        -----\n",
    "        \n",
    "        binary: a binary array of length number of subsampled frames (1 - scene, 0 - motion)\n",
    "        \n",
    "        \n",
    "    \"\"\"\n",
    "    \n",
    "    \n",
    "    vid_out = imageio.get_writer(videoname,fps = 30/subsampleRate*speedup)\n",
    "    vid_in = imageio.get_reader(moviename,'ffmpeg')\n",
    "    \n",
    "    frame_idx = np.arange(0,len(vid_in),subsampleRate)\n",
    "    \n",
    "    fig = plt.figure()\n",
    "\n",
    "    for i in range(len(binary)):\n",
    "    #for i in range(60):\n",
    "        \n",
    "        print(i)\n",
    "    \n",
    "        \n",
    "        im = vid_in.get_data(frame_idx[i])\n",
    "        vid_out.append_data(im*binary[i])\n",
    "    \n",
    "    vid_in.close()\n",
    "    vid_out.close()"
   ]
  },
  {
   "cell_type": "code",
   "execution_count": null,
   "metadata": {
    "collapsed": false
   },
   "outputs": [],
   "source": [
    "# unselect to save video\n",
    "# createSlicedVideo(binary,os.path.join(video_path,filename),os.path.join(results_path,'slicedVideo.mp4'),10,10)"
   ]
  },
  {
   "cell_type": "code",
   "execution_count": null,
   "metadata": {
    "collapsed": false
   },
   "outputs": [],
   "source": [
    "# unselect to save video\n",
    "# createSlicedVideo(1- binary,os.path.join(video_path,filename),os.path.join(results_path,'slicedVideo_motion.mp4'),10,10)"
   ]
  },
  {
   "cell_type": "code",
   "execution_count": null,
   "metadata": {
    "collapsed": false
   },
   "outputs": [],
   "source": [
    "video_encoded = open(os.path.join(results_path,'slicedVideo_static.mp4'), \"rb\").read().encode(\"base64\")\n",
    "video_tag = '<video width=\"320\" height=\"320\" controls alt=\"test\" src=\"data:video/{0};base64,{1}\">'.format(\"mp4\", video_encoded)\n",
    "HTML(data=video_tag)"
   ]
  },
  {
   "cell_type": "code",
   "execution_count": null,
   "metadata": {
    "collapsed": false
   },
   "outputs": [],
   "source": [
    "video_encoded = open(os.path.join(results_path,'slicedVideo_motion.mp4'), \"rb\").read().encode(\"base64\")\n",
    "video_tag = '<video width=\"320\" height=\"320\" controls alt=\"test\" src=\"data:video/{0};base64,{1}\">'.format(\"mp4\", video_encoded)\n",
    "HTML(data=video_tag)"
   ]
  },
  {
   "cell_type": "code",
   "execution_count": null,
   "metadata": {
    "collapsed": true
   },
   "outputs": [],
   "source": []
  },
  {
   "cell_type": "code",
   "execution_count": null,
   "metadata": {
    "collapsed": true
   },
   "outputs": [],
   "source": []
  },
  {
   "cell_type": "code",
   "execution_count": null,
   "metadata": {
    "collapsed": true
   },
   "outputs": [],
   "source": []
  },
  {
   "cell_type": "code",
   "execution_count": null,
   "metadata": {
    "collapsed": true
   },
   "outputs": [],
   "source": []
  },
  {
   "cell_type": "code",
   "execution_count": null,
   "metadata": {
    "collapsed": true
   },
   "outputs": [],
   "source": []
  },
  {
   "cell_type": "code",
   "execution_count": null,
   "metadata": {
    "collapsed": true
   },
   "outputs": [],
   "source": []
  },
  {
   "cell_type": "code",
   "execution_count": null,
   "metadata": {
    "collapsed": true
   },
   "outputs": [],
   "source": []
  },
  {
   "cell_type": "code",
   "execution_count": null,
   "metadata": {
    "collapsed": true
   },
   "outputs": [],
   "source": []
  },
  {
   "cell_type": "code",
   "execution_count": null,
   "metadata": {
    "collapsed": true
   },
   "outputs": [],
   "source": []
  },
  {
   "cell_type": "code",
   "execution_count": null,
   "metadata": {
    "collapsed": true
   },
   "outputs": [],
   "source": []
  },
  {
   "cell_type": "code",
   "execution_count": null,
   "metadata": {
    "collapsed": true
   },
   "outputs": [],
   "source": []
  }
 ],
 "metadata": {
  "kernelspec": {
   "display_name": "Python 2",
   "language": "python",
   "name": "python2"
  },
  "language_info": {
   "codemirror_mode": {
    "name": "ipython",
    "version": 2
   },
   "file_extension": ".py",
   "mimetype": "text/x-python",
   "name": "python",
   "nbconvert_exporter": "python",
   "pygments_lexer": "ipython2",
   "version": "2.7.11"
  }
 },
 "nbformat": 4,
 "nbformat_minor": 0
}
