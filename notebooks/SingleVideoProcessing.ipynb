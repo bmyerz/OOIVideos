{
 "cells": [
  {
   "cell_type": "markdown",
   "metadata": {
    "collapsed": true
   },
   "source": [
    "### Processing a specific video"
   ]
  },
  {
   "cell_type": "code",
   "execution_count": 1,
   "metadata": {
    "collapsed": true
   },
   "outputs": [],
   "source": [
    "import numpy as np\n",
    "import matplotlib.pyplot as plt\n",
    "import os\n",
    "import sys"
   ]
  },
  {
   "cell_type": "code",
   "execution_count": 2,
   "metadata": {
    "collapsed": true
   },
   "outputs": [],
   "source": [
    "%matplotlib inline"
   ]
  },
  {
   "cell_type": "code",
   "execution_count": 3,
   "metadata": {
    "collapsed": true
   },
   "outputs": [],
   "source": [
    "import imageio"
   ]
  },
  {
   "cell_type": "code",
   "execution_count": 4,
   "metadata": {
    "collapsed": false
   },
   "outputs": [],
   "source": [
    "video_path = os.path.join(os.getcwd(),'..','OOIVideos')"
   ]
  },
  {
   "cell_type": "code",
   "execution_count": 5,
   "metadata": {
    "collapsed": false
   },
   "outputs": [
    {
     "name": "stdout",
     "output_type": "stream",
     "text": [
      "/home/val/MEGA/eScienceWork/projects/OOIVideos/notebooks/../OOIVideos\n"
     ]
    }
   ],
   "source": [
    "print(video_path)"
   ]
  },
  {
   "cell_type": "code",
   "execution_count": 6,
   "metadata": {
    "collapsed": true
   },
   "outputs": [],
   "source": [
    "# just reading sparse frames:\n",
    "filename = 'opendap_hyrax_large_format_RS03ASHS-PN03B-06-CAMHDA301_2016_01_01_CAMHDA301-20160101T210000Z.mp4'"
   ]
  },
  {
   "cell_type": "code",
   "execution_count": null,
   "metadata": {
    "collapsed": false
   },
   "outputs": [],
   "source": [
    "vid = imageio.get_reader(os.path.join(video_path,filename), 'ffmpeg')\n",
    "# does it show a different length?\n",
    "nofFrames = len(vid)\n",
    "dim1 = vid.get_data(0).shape[0]\n",
    "dim2 = vid.get_data(0).shape[1]\n",
    "\n",
    "nums = np.arange(0,len(vid),100)\n",
    "frames = []\n",
    "values = []\n",
    "im_prev = np.zeros((dim1,dim2,3))\n",
    "\n",
    "fig = plt.figure()\n",
    "fig.show()\n",
    "fig.canvas.draw()\n",
    "\n",
    "nums = list(np.arange(2000,3000,1))\n",
    "for num in nums:\n",
    "    im = vid.get_data(num)\n",
    "    # plt.imshow(im)\n",
    "    # plt.title('Image frame ' + str(num))\n",
    "        \n",
    "    # fig.show()\n",
    "    #fig.canvas.draw()\n",
    "\n",
    "#for i,im in enumerate(vid[3000:3100]):\n",
    "    # plt.imshow(im)\n",
    "    # plt.title('Image frame ' + str(i))\n",
    "    # fig.show()\n",
    "    # fig.canvas.draw()\n",
    "    \n",
    "     \n",
    "    # values.append(np.sum(np.abs(im)))\n",
    "    \n",
    "    # store the absolute difference between the images\n",
    "    diff = np.sum(np.abs(im - im_prev))\n",
    "    im_prev = im\n",
    "    # frames.append(im)\n",
    "    values.append(diff)\n",
    "    "
   ]
  },
  {
   "cell_type": "code",
   "execution_count": 6,
   "metadata": {
    "collapsed": false
   },
   "outputs": [
    {
     "ename": "NameError",
     "evalue": "name 'frames' is not defined",
     "output_type": "error",
     "traceback": [
      "\u001b[1;31m---------------------------------------------------------------------------\u001b[0m",
      "\u001b[1;31mNameError\u001b[0m                                 Traceback (most recent call last)",
      "\u001b[1;32m<ipython-input-6-c9bf1599cc7a>\u001b[0m in \u001b[0;36m<module>\u001b[1;34m()\u001b[0m\n\u001b[1;32m----> 1\u001b[1;33m \u001b[0mlen\u001b[0m\u001b[1;33m(\u001b[0m\u001b[0mframes\u001b[0m\u001b[1;33m)\u001b[0m\u001b[1;33m\u001b[0m\u001b[0m\n\u001b[0m",
      "\u001b[1;31mNameError\u001b[0m: name 'frames' is not defined"
     ]
    }
   ],
   "source": [
    "len(frames)"
   ]
  },
  {
   "cell_type": "code",
   "execution_count": 7,
   "metadata": {
    "collapsed": false
   },
   "outputs": [
    {
     "ename": "NameError",
     "evalue": "name 'filename' is not defined",
     "output_type": "error",
     "traceback": [
      "\u001b[1;31m---------------------------------------------------------------------------\u001b[0m",
      "\u001b[1;31mNameError\u001b[0m                                 Traceback (most recent call last)",
      "\u001b[1;32m<ipython-input-7-6030b312e68b>\u001b[0m in \u001b[0;36m<module>\u001b[1;34m()\u001b[0m\n\u001b[0;32m      1\u001b[0m \u001b[1;31m# read in chunks\u001b[0m\u001b[1;33m\u001b[0m\u001b[1;33m\u001b[0m\u001b[0m\n\u001b[0;32m      2\u001b[0m \u001b[1;33m\u001b[0m\u001b[0m\n\u001b[1;32m----> 3\u001b[1;33m \u001b[0mvid\u001b[0m \u001b[1;33m=\u001b[0m \u001b[0mimageio\u001b[0m\u001b[1;33m.\u001b[0m\u001b[0mget_reader\u001b[0m\u001b[1;33m(\u001b[0m\u001b[0mos\u001b[0m\u001b[1;33m.\u001b[0m\u001b[0mpath\u001b[0m\u001b[1;33m.\u001b[0m\u001b[0mjoin\u001b[0m\u001b[1;33m(\u001b[0m\u001b[0mvideo_path\u001b[0m\u001b[1;33m,\u001b[0m\u001b[0mfilename\u001b[0m\u001b[1;33m)\u001b[0m\u001b[1;33m,\u001b[0m \u001b[1;34m'ffmpeg'\u001b[0m\u001b[1;33m)\u001b[0m\u001b[1;33m\u001b[0m\u001b[0m\n\u001b[0m\u001b[0;32m      4\u001b[0m \u001b[1;31m# does it show a different length?\u001b[0m\u001b[1;33m\u001b[0m\u001b[1;33m\u001b[0m\u001b[0m\n\u001b[0;32m      5\u001b[0m \u001b[0mnofFrames\u001b[0m \u001b[1;33m=\u001b[0m \u001b[0mlen\u001b[0m\u001b[1;33m(\u001b[0m\u001b[0mvid\u001b[0m\u001b[1;33m)\u001b[0m\u001b[1;33m\u001b[0m\u001b[0m\n",
      "\u001b[1;31mNameError\u001b[0m: name 'filename' is not defined"
     ]
    }
   ],
   "source": [
    "# read in chunks\n",
    "\n",
    "vid = imageio.get_reader(os.path.join(video_path,filename), 'ffmpeg')\n",
    "# does it show a different length?\n",
    "nofFrames = len(vid)\n",
    "dim1 = vid.get_data(0).shape[0]\n",
    "dim2 = vid.get_data(0).shape[1]\n",
    "\n",
    "nums = np.arange(0,len(vid),100)\n",
    "frames = []\n",
    "values = []\n",
    "im_prev = np.zeros((dim1,dim2,3))\n",
    "\n",
    "fig = plt.figure()\n",
    "fig.show()\n",
    "fig.canvas.draw()\n",
    "\n",
    "nums = list(np.arange(2000,3000,1))\n",
    "lag = 10\n",
    "\n",
    "# put them on a stack? pop/push\n",
    "rolling_mean = []\n",
    "rolling_var = []\n",
    "for num in nums:\n",
    "    block = []\n",
    "    for index in np.arange(num,num+lag):\n",
    "        block.append(vid.get_data(index)[:,:,0])\n",
    "    # plt.imshow(im)\n",
    "    # plt.title('Image frame ' + str(num))\n",
    "        \n",
    "    # fig.show()\n",
    "    #fig.canvas.draw()\n",
    "\n",
    "#for i,im in enumerate(vid[3000:3100]):\n",
    "    # plt.imshow(im)\n",
    "    # plt.title('Image frame ' + str(i))\n",
    "    # fig.show()\n",
    "    # fig.canvas.draw()\n",
    "    \n",
    "     \n",
    "    # values.append(np.sum(np.abs(im)))\n",
    "    block_array = np.array(block)\n",
    "    \n",
    "    rolling_mean.append(np.mean(block,0))\n",
    "    rolling_var.append(np.std(block,0)) \n",
    "    # store the absolute difference between the images\n",
    "    # diff = np.sum(np.abs(im - im_prev))\n",
    "    # im_prev = im\n",
    "    # frames.append(im)\n",
    "    # values.append(diff)\n",
    "    "
   ]
  },
  {
   "cell_type": "code",
   "execution_count": null,
   "metadata": {
    "collapsed": false
   },
   "outputs": [],
   "source": [
    "plt.figure()\n",
    "#plt.plot(np.sum(np.sum(np.array(rolling_mean),2),1))\n",
    "plt.plot(np.sum(np.sum(np.array(rolling_var),2),1))\n",
    "plt.show()"
   ]
  },
  {
   "cell_type": "code",
   "execution_count": null,
   "metadata": {
    "collapsed": false
   },
   "outputs": [],
   "source": [
    "np.array(means).shape"
   ]
  },
  {
   "cell_type": "code",
   "execution_count": null,
   "metadata": {
    "collapsed": true
   },
   "outputs": [],
   "source": [
    "video = np.array(frames)"
   ]
  },
  {
   "cell_type": "code",
   "execution_count": null,
   "metadata": {
    "collapsed": false
   },
   "outputs": [],
   "source": [
    "# calculate deviation from moving average:\n",
    "m = 10\n",
    "for i in range(m+1,len(frames) - 2):\n",
    "    mean = np.mean(video[i-m:i+m,:,:],axis = 0)\n",
    "    var = (np.var(video[i-m:i+m,:,:],axis =0)\n",
    "    l.append(var)"
   ]
  },
  {
   "cell_type": "code",
   "execution_count": null,
   "metadata": {
    "collapsed": false
   },
   "outputs": [],
   "source": [
    "help(vid.get_data)"
   ]
  },
  {
   "cell_type": "code",
   "execution_count": null,
   "metadata": {
    "collapsed": true
   },
   "outputs": [],
   "source": []
  },
  {
   "cell_type": "code",
   "execution_count": null,
   "metadata": {
    "collapsed": true
   },
   "outputs": [],
   "source": []
  }
 ],
 "metadata": {
  "kernelspec": {
   "display_name": "Python 2",
   "language": "python",
   "name": "python2"
  },
  "language_info": {
   "codemirror_mode": {
    "name": "ipython",
    "version": 2
   },
   "file_extension": ".py",
   "mimetype": "text/x-python",
   "name": "python",
   "nbconvert_exporter": "python",
   "pygments_lexer": "ipython2",
   "version": "2.7.11"
  }
 },
 "nbformat": 4,
 "nbformat_minor": 0
}
